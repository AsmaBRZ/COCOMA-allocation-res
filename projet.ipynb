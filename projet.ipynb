{
 "cells": [
  {
   "cell_type": "markdown",
   "metadata": {},
   "source": [
    "# Mini-projet COCOMA - Allocation de resssources\n",
    "### - Antonin ARBERET  \n",
    "### - Asma BRAZI "
   ]
  },
  {
   "cell_type": "markdown",
   "metadata": {},
   "source": [
    "Le mini-projet consiste simplement à produire un notebook qui permettra d'illustrer deux protocoles pour la coordination à base d'enchères:\n",
    "\n",
    "- les protocoles SSI (version classique et regret)\n",
    "\n",
    "- le protocole CBAA \n",
    "\n",
    "On s'inspirera de la fiche exemple donnée en pdf. Pour les deux protocoles, les agents/robots doivent être situés sur un graphe, dont les arcs sont valués (distance)."
   ]
  },
  {
   "cell_type": "code",
   "execution_count": 1,
   "metadata": {},
   "outputs": [],
   "source": [
    "from problem import Problem\n",
    "from utils import *\n",
    "import numpy as np\n",
    "import sys\n",
    "from IPython.display import Image\n",
    "import pandas as pd"
   ]
  },
  {
   "cell_type": "markdown",
   "metadata": {},
   "source": [
    "## 1. Les protocoles SSI"
   ]
  },
  {
   "cell_type": "markdown",
   "metadata": {},
   "source": [
    "Deux agents : robots r1 et r2 sont disposes sur un terrain en forme de grille et doivent visiter plusieurs objectifs (o1, o2, o3, o4), sans revenir à leur position initiale. On utilisera ici la distancede Manhattan. \n",
    "\n",
    "On s’interesse aux approches basees sur les enchères, où les robots effectuent des offres sur les objectifs à visiter."
   ]
  },
  {
   "cell_type": "markdown",
   "metadata": {},
   "source": [
    "###  1.1 Modélisation du problème\n",
    "Les agents et les objectifs à visiter sont stockés dans des tableaux à une dimension. Nous définissons aussi une grille à NxM dimension où les agents et les objectifs seront placés. Cette grille sert à un agent donné à calculer la distance entre sa position, et la position d'un objectif donné. Cette distance sera donc le bid à proposer."
   ]
  },
  {
   "cell_type": "markdown",
   "metadata": {},
   "source": [
    "###  1.2 Expérimentation"
   ]
  },
  {
   "cell_type": "markdown",
   "metadata": {},
   "source": [
    "####  1.2.1 Problème 1\n",
    "En premier temps, nous étudions problème à deux agents r1 et r2, disposant de 4 objectifs à visiter. La grille ci-dessous montre les positions occupées par les robots et les objectifs."
   ]
  },
  {
   "cell_type": "code",
   "execution_count": 2,
   "metadata": {},
   "outputs": [
    {
     "data": {
      "text/plain": [
       "array([[None, None, None, None, None, None, None, None],\n",
       "       [None, None, None, None, None, None, None, None],\n",
       "       [None, None, 'o2', None, 'o4', None, None, None],\n",
       "       [None, None, None, None, None, None, None, None],\n",
       "       [None, None, None, None, 'r2', None, None, None],\n",
       "       [None, None, 'r1', None, None, 'o1', None, None],\n",
       "       [None, None, None, None, None, None, None, None],\n",
       "       [None, None, None, None, 'o3', None, None, None]], dtype=object)"
      ]
     },
     "execution_count": 2,
     "metadata": {},
     "output_type": "execute_result"
    }
   ],
   "source": [
    "agents=[\"r1\",\"r2\"]\n",
    "resources=[\"o1\",\"o2\",\"o3\",\"o4\"]\n",
    "\n",
    "grid=np.empty([8, 8], dtype = object)\n",
    "\n",
    "grid[2][2]=\"o2\"\n",
    "grid[2][4]=\"o4\"\n",
    "grid[4][4]=\"r2\"\n",
    "grid[5][5]=\"o1\"\n",
    "grid[5][2]=\"r1\"\n",
    "grid[7][4]=\"o3\"\n",
    "grid\n"
   ]
  },
  {
   "cell_type": "markdown",
   "metadata": {},
   "source": [
    "#### Version classique"
   ]
  },
  {
   "cell_type": "code",
   "execution_count": 3,
   "metadata": {},
   "outputs": [
    {
     "name": "stdout",
     "output_type": "stream",
     "text": [
      "Round: 0\n",
      "Available resources:  ['o1' 'o2' 'o3' 'o4']\n",
      "Resource:  o1  ==> Agent:  r2 \n",
      "\n",
      "Round: 1\n",
      "Available resources:  ['o2' 'o3' 'o4']\n",
      "Resource:  o2  ==> Agent:  r1 \n",
      "\n",
      "Round: 2\n",
      "Available resources:  ['o3' 'o4']\n",
      "Resource:  o3  ==> Agent:  r2 \n",
      "\n",
      "Round: 3\n",
      "Available resources:  ['o4']\n",
      "Resource:  o4  ==> Agent:  r1 \n",
      "\n",
      "-- Solution --\n",
      "Agent Resources\n",
      "   r1  [o2, o4]\n",
      "   r2  [o1, o3]\n"
     ]
    }
   ],
   "source": [
    "ssi(grid,agents,resources)"
   ]
  },
  {
   "cell_type": "markdown",
   "metadata": {},
   "source": [
    "#### Version regret"
   ]
  },
  {
   "cell_type": "code",
   "execution_count": 4,
   "metadata": {},
   "outputs": [
    {
     "name": "stdout",
     "output_type": "stream",
     "text": [
      "Round: 0\n",
      "Available resources:  ['o1', 'o2', 'o3', 'o4']\n",
      "Resource:  o4  ==> Agent:  r2 \n",
      "\n",
      "\n",
      "\n",
      "Round: 1\n",
      "Available resources:  ['o1', 'o2', 'o3']\n",
      "Resource:  o1  ==> Agent:  r1 \n",
      "\n",
      "\n",
      "\n",
      "Round: 2\n",
      "Available resources:  ['o2', 'o3']\n",
      "Resource:  o2  ==> Agent:  r2 \n",
      "\n",
      "\n",
      "\n",
      "Round: 3\n",
      "Available resources:  ['o3']\n",
      "Resource:  o3  ==> Agent:  r1 \n",
      "\n",
      "\n",
      "\n",
      "-- Solution --\n",
      "Agent Resources\n",
      "   r1  [o1, o3]\n",
      "   r2  [o4, o2]\n"
     ]
    }
   ],
   "source": [
    "ssi_regret(grid,agents,resources)"
   ]
  },
  {
   "cell_type": "markdown",
   "metadata": {},
   "source": [
    "La version regret nous retourne le même résultat que la version classique. Ceci est dû au fait qu'en cas d'égalité entre les evaluations sur une ressource donnée, l'odre lexicographique est respecté, contrairement au cours où nous avons pris comme mesure l'agent ayant effectuant l'offre la plus basse."
   ]
  },
  {
   "cell_type": "markdown",
   "metadata": {},
   "source": [
    "####  1.2.2 Problème 2\n",
    "Nous reproduisons l'exemple cité dans le papier \"The Power of Sequential Single-Item Auctions for Agent CoordinationS. Koenig et al\". Deux agents r1 et r2 explorent 4 lieux."
   ]
  },
  {
   "cell_type": "markdown",
   "metadata": {},
   "source": [
    "#### Version classique"
   ]
  },
  {
   "cell_type": "code",
   "execution_count": 5,
   "metadata": {},
   "outputs": [
    {
     "data": {
      "text/plain": [
       "array([['o4', None, None, None, 'r1', None, None, 'o1'],\n",
       "       [None, None, None, None, None, None, None, None],\n",
       "       ['o3', None, None, None, 'r2', None, None, 'o2']], dtype=object)"
      ]
     },
     "execution_count": 5,
     "metadata": {},
     "output_type": "execute_result"
    }
   ],
   "source": [
    "agents=[\"r1\",\"r2\"]\n",
    "resources=[\"o1\",\"o2\",\"o3\",\"o4\"]\n",
    "\n",
    "grid=np.empty([3, 8], dtype = object)\n",
    "\n",
    "grid[0][0]=\"o4\"\n",
    "grid[0][4]=\"r1\"\n",
    "grid[0][7]=\"o1\"\n",
    "grid[2][0]=\"o3\"\n",
    "grid[2][4]=\"r2\"\n",
    "grid[2][7]=\"o2\"\n",
    "\n",
    "\n",
    "grid\n"
   ]
  },
  {
   "cell_type": "code",
   "execution_count": 6,
   "metadata": {},
   "outputs": [
    {
     "name": "stdout",
     "output_type": "stream",
     "text": [
      "Round: 0\n",
      "Available resources:  ['o1' 'o2' 'o3' 'o4']\n",
      "Resource:  o1  ==> Agent:  r1 \n",
      "\n",
      "Round: 1\n",
      "Available resources:  ['o2' 'o3' 'o4']\n",
      "Resource:  o2  ==> Agent:  r1 \n",
      "\n",
      "Round: 2\n",
      "Available resources:  ['o3' 'o4']\n",
      "Resource:  o3  ==> Agent:  r2 \n",
      "\n",
      "Round: 3\n",
      "Available resources:  ['o4']\n",
      "Resource:  o4  ==> Agent:  r2 \n",
      "\n",
      "-- Solution --\n",
      "Agent Resources\n",
      "   r1  [o1, o2]\n",
      "   r2  [o3, o4]\n"
     ]
    }
   ],
   "source": [
    "ssi(grid,agents,resources)"
   ]
  },
  {
   "cell_type": "markdown",
   "metadata": {},
   "source": [
    "Nous retrouvons le même résultat que celui obtenu dans l'article (page 1628 exemple : Exploration Task 3)"
   ]
  },
  {
   "cell_type": "markdown",
   "metadata": {},
   "source": [
    "#### Version regret"
   ]
  },
  {
   "cell_type": "code",
   "execution_count": 7,
   "metadata": {},
   "outputs": [
    {
     "name": "stdout",
     "output_type": "stream",
     "text": [
      "Round: 0\n",
      "Available resources:  ['o1', 'o2', 'o3', 'o4']\n",
      "Resource:  o1  ==> Agent:  r1 \n",
      "\n",
      "\n",
      "\n",
      "Round: 1\n",
      "Available resources:  ['o2', 'o3', 'o4']\n",
      "Resource:  o3  ==> Agent:  r2 \n",
      "\n",
      "\n",
      "\n",
      "Round: 2\n",
      "Available resources:  ['o2', 'o4']\n",
      "Resource:  o4  ==> Agent:  r2 \n",
      "\n",
      "\n",
      "\n",
      "Round: 3\n",
      "Available resources:  ['o2']\n",
      "Resource:  o2  ==> Agent:  r1 \n",
      "\n",
      "\n",
      "\n",
      "-- Solution --\n",
      "Agent Resources\n",
      "   r1  [o1, o2]\n",
      "   r2  [o3, o4]\n"
     ]
    }
   ],
   "source": [
    "ssi_regret(grid,agents,resources)"
   ]
  },
  {
   "cell_type": "markdown",
   "metadata": {},
   "source": [
    "####  1.2.3 Problème 3\n",
    "Considérons un problème à deux agents r1 et r2, disposant de 5 objectifs à visiter."
   ]
  },
  {
   "cell_type": "code",
   "execution_count": 8,
   "metadata": {},
   "outputs": [
    {
     "data": {
      "text/plain": [
       "array([['o1', 'r1', 'o2', 'r2']], dtype=object)"
      ]
     },
     "execution_count": 8,
     "metadata": {},
     "output_type": "execute_result"
    }
   ],
   "source": [
    "agents=[\"r1\",\"r2\"]\n",
    "resources=[\"o1\",\"o2\"]\n",
    "\n",
    "grid=np.empty([1, 4], dtype = object)\n",
    "\n",
    "grid[0][0]=\"o1\"\n",
    "grid[0][1]=\"r1\"\n",
    "grid[0][2]=\"o2\"\n",
    "grid[0][3]=\"r2\"\n",
    "\n",
    "\n",
    "grid\n"
   ]
  },
  {
   "cell_type": "markdown",
   "metadata": {},
   "source": [
    "#### Version classique"
   ]
  },
  {
   "cell_type": "code",
   "execution_count": 9,
   "metadata": {},
   "outputs": [
    {
     "name": "stdout",
     "output_type": "stream",
     "text": [
      "Round: 0\n",
      "Available resources:  ['o1' 'o2']\n",
      "Resource:  o1  ==> Agent:  r1 \n",
      "\n",
      "Round: 1\n",
      "Available resources:  ['o2']\n",
      "Resource:  o2  ==> Agent:  r1 \n",
      "\n",
      "-- Solution --\n",
      "Agent Resources\n",
      "   r1  [o1, o2]\n",
      "   r2        []\n"
     ]
    }
   ],
   "source": [
    "ssi(grid,agents,resources)"
   ]
  },
  {
   "cell_type": "markdown",
   "metadata": {},
   "source": [
    "#### Version regret"
   ]
  },
  {
   "cell_type": "code",
   "execution_count": 10,
   "metadata": {},
   "outputs": [
    {
     "name": "stdout",
     "output_type": "stream",
     "text": [
      "Round: 0\n",
      "Available resources:  ['o1', 'o2']\n",
      "Resource:  o1  ==> Agent:  r1 \n",
      "\n",
      "\n",
      "\n",
      "Round: 1\n",
      "Available resources:  ['o2']\n",
      "Resource:  o2  ==> Agent:  r2 \n",
      "\n",
      "\n",
      "\n",
      "-- Solution --\n",
      "Agent Resources\n",
      "   r1      [o1]\n",
      "   r2      [o2]\n"
     ]
    }
   ],
   "source": [
    "ssi_regret(grid,agents,resources)"
   ]
  },
  {
   "cell_type": "markdown",
   "metadata": {},
   "source": [
    "L'exemple 3 montre la différence entre les deux versions classique et regret de SSI. Avec la version classique, le robot 1 prend les deux objectifs. Or, la version avec regret attribue à r1 l'objectif o1 et à r2 l'objectif o2. \n",
    "\n",
    "La version classique attribue l'objectif o2 à r1 car les deux robots propose la même offre sur cet objectif, mais le robot 1 est privilégié car nous considérons l'ordre lexicographique en cas d'égalité, mais aussi la méthode prime. \n",
    "Or, La version regret attribue l'objectif o2 à r2 car r1 aurait déjà pris o1 dans un premier tour, s'il doit ensuite visiter o2 ça lui coûte 2 unité en partant de o2 ou bien aussi 2 unité en visitant o2 d'abord ensuite o1. Cependant, le robot r1 étant toujours à sa case de départ, ça lui coûte uniquement 1 unité pour visiter o2."
   ]
  },
  {
   "cell_type": "markdown",
   "metadata": {},
   "source": [
    "## 2. Le protocoles CBAA"
   ]
  },
  {
   "cell_type": "markdown",
   "metadata": {},
   "source": [
    "###  2.1 Modélisation du problème\n",
    "En plus des agents et des ressources à se partager, nou stockons aussi le tableau des utilités de ces agents. De plus, il est important de définir les voisins de chaque agent avec qui il va communiquer son choix et apprendre le choix des autres. \n",
    "\n"
   ]
  },
  {
   "cell_type": "markdown",
   "metadata": {},
   "source": [
    "###  2.2 Expérimentation"
   ]
  },
  {
   "cell_type": "markdown",
   "metadata": {},
   "source": [
    "####  2.2.1 Problème 1\n",
    "Nous condidérons 4 agents et 4 ressources. Le graphe ci-dessous montre les relations de voisinage entre les agents."
   ]
  },
  {
   "cell_type": "code",
   "execution_count": 11,
   "metadata": {},
   "outputs": [
    {
     "data": {
      "image/png": "[encoded data removed]",
      "text/plain": [
       "<IPython.core.display.Image object>"
      ]
     },
     "execution_count": 11,
     "metadata": {},
     "output_type": "execute_result"
    }
   ],
   "source": [
    " Image(\"cbaa1.png\")"
   ]
  },
  {
   "cell_type": "code",
   "execution_count": 12,
   "metadata": {},
   "outputs": [],
   "source": [
    "agents=[\"r1\",\"r2\",\"r3\",\"r4\"]\n",
    "resources=[\"o1\",\"o2\",\"o3\",\"o4\"]\n",
    "utilities=[[5,1,2,3],[1,3,6,1],[1,2,5,3],[8,1,1,1]]\n",
    "neighbours=[[\"r2\"],[\"r1\",\"r3\",\"r4\"],[\"r2\",\"r4\"],[\"r2\",\"r3\"]]\n"
   ]
  },
  {
   "cell_type": "code",
   "execution_count": 13,
   "metadata": {},
   "outputs": [
    {
     "name": "stdout",
     "output_type": "stream",
     "text": [
      "Round:  0\n",
      "Agent:  r1  :  resource  o1\n",
      "Agent:  r2  :  resource  o3\n",
      "Agent:  r3  :  resource  o3\n",
      "Agent:  r4  :  resource  o1\n",
      "\n",
      "\n",
      "Round:  1\n",
      "Agent:  r1  :  resource  o1\n",
      "Agent:  r2  :  resource  o3\n",
      "Agent:  r3  :  resource  o4\n",
      "Agent:  r4  :  resource  o1\n",
      "\n",
      "\n",
      "Round:  2\n",
      "Agent:  r1  :  resource  o4\n",
      "Agent:  r2  :  resource  o3\n",
      "Agent:  r3  :  resource  o4\n",
      "Agent:  r4  :  resource  o1\n",
      "\n",
      "\n",
      "Round:  3\n",
      "Agent:  r1  :  resource  o4\n",
      "Agent:  r2  :  resource  o3\n",
      "Agent:  r3  :  resource  o2\n",
      "Agent:  r4  :  resource  o1\n",
      "\n",
      "\n",
      "----------- Solution ------------\n",
      "Agent Resource  Utility  Bid\n",
      "   r1       o4        3    1\n",
      "   r2       o3        6    3\n",
      "   r3       o2        2    1\n",
      "   r4       o1        8    7\n",
      "Utilité totale :  19\n"
     ]
    }
   ],
   "source": [
    "cbaa(agents,resources,utilities,neighbours)"
   ]
  },
  {
   "cell_type": "markdown",
   "metadata": {},
   "source": [
    "####  2.2.2 Problème 2\n",
    "Prenons un autre exemple où les agents forment une chaine. Nous condidérons 5 agents et 5 ressources:"
   ]
  },
  {
   "cell_type": "code",
   "execution_count": 14,
   "metadata": {},
   "outputs": [
    {
     "data": {
      "image/png": "[encoded data removed]",
      "text/plain": [
       "<IPython.core.display.Image object>"
      ]
     },
     "execution_count": 14,
     "metadata": {},
     "output_type": "execute_result"
    }
   ],
   "source": [
    " Image(\"cbaa2.png\")"
   ]
  },
  {
   "cell_type": "code",
   "execution_count": 15,
   "metadata": {},
   "outputs": [],
   "source": [
    "agents=[\"r1\",\"r2\",\"r3\",\"r4\",\"r5\"]\n",
    "resources=[\"o1\",\"o2\",\"o3\",\"o4\",\"o5\"]\n",
    "utilities=[[5,1,2,3,1],[1,3,6,1,4],[1,2,5,3,4],[8,1,1,1,9],[8,1,1,1,9]]\n",
    "neighbours=[[\"r2\"],[\"r1\",\"r3\"],[\"r2\",\"r4\"],[\"r3\",\"r5\"],[\"r4\"]]"
   ]
  },
  {
   "cell_type": "code",
   "execution_count": 16,
   "metadata": {},
   "outputs": [
    {
     "name": "stdout",
     "output_type": "stream",
     "text": [
      "Round:  0\n",
      "Agent:  r1  :  resource  o1\n",
      "Agent:  r2  :  resource  o3\n",
      "Agent:  r3  :  resource  o3\n",
      "Agent:  r4  :  resource  o5\n",
      "Agent:  r5  :  resource  o5\n",
      "\n",
      "\n",
      "Round:  1\n",
      "Agent:  r1  :  resource  o1\n",
      "Agent:  r2  :  resource  o3\n",
      "Agent:  r3  :  resource  o5\n",
      "Agent:  r4  :  resource  o5\n",
      "Agent:  r5  :  resource  o1\n",
      "\n",
      "\n",
      "Round:  2\n",
      "Agent:  r1  :  resource  o1\n",
      "Agent:  r2  :  resource  o3\n",
      "Agent:  r3  :  resource  o5\n",
      "Agent:  r4  :  resource  o1\n",
      "Agent:  r5  :  resource  o1\n",
      "\n",
      "\n",
      "Round:  3\n",
      "Agent:  r1  :  resource  o1\n",
      "Agent:  r2  :  resource  o3\n",
      "Agent:  r3  :  resource  o5\n",
      "Agent:  r4  :  resource  o1\n",
      "Agent:  r5  :  resource  o2\n",
      "\n",
      "\n",
      "Round:  4\n",
      "Agent:  r1  :  resource  o1\n",
      "Agent:  r2  :  resource  o3\n",
      "Agent:  r3  :  resource  o5\n",
      "Agent:  r4  :  resource  o1\n",
      "Agent:  r5  :  resource  o2\n",
      "\n",
      "\n",
      "Round:  5\n",
      "Agent:  r1  :  resource  o4\n",
      "Agent:  r2  :  resource  o3\n",
      "Agent:  r3  :  resource  o5\n",
      "Agent:  r4  :  resource  o1\n",
      "Agent:  r5  :  resource  o2\n",
      "\n",
      "\n",
      "Round:  6\n",
      "Agent:  r1  :  resource  o4\n",
      "Agent:  r2  :  resource  o3\n",
      "Agent:  r3  :  resource  o5\n",
      "Agent:  r4  :  resource  o1\n",
      "Agent:  r5  :  resource  o2\n",
      "\n",
      "\n",
      "Round:  7\n",
      "Agent:  r1  :  resource  o4\n",
      "Agent:  r2  :  resource  o3\n",
      "Agent:  r3  :  resource  o5\n",
      "Agent:  r4  :  resource  o1\n",
      "Agent:  r5  :  resource  o2\n",
      "\n",
      "\n",
      "----------- Solution ------------\n",
      "Agent Resource  Utility  Bid\n",
      "   r1       o4        3    1\n",
      "   r2       o3        6    2\n",
      "   r3       o5        4    1\n",
      "   r4       o1        8    7\n",
      "   r5       o2        1    1\n",
      "Utilité totale :  22\n"
     ]
    }
   ],
   "source": [
    "cbaa(agents,resources,utilities,neighbours)"
   ]
  },
  {
   "cell_type": "markdown",
   "metadata": {},
   "source": [
    "Cet exemple représente le pire cas en terme de nombre de d'aretes entre les voisins, soit le minimum possible. L'exécution du CBAA prend naturellement plus de temps à converger. Car si n est le nombre d'agent, les agents qui sont aux bouts de la chaine doivent attendre n-1 envois de message venant du bout opposé pour leur arriver et apprendre le bid de l'agent sur l'autre extrémité. "
   ]
  }
 ],
 "metadata": {
  "anaconda-cloud": {},
  "kernelspec": {
   "display_name": "Python 3",
   "language": "python",
   "name": "python3"
  },
  "language_info": {
   "codemirror_mode": {
    "name": "ipython",
    "version": 3
   },
   "file_extension": ".py",
   "mimetype": "text/x-python",
   "name": "python",
   "nbconvert_exporter": "python",
   "pygments_lexer": "ipython3",
   "version": "3.6.9"
  }
 },
 "nbformat": 4,
 "nbformat_minor": 1
}

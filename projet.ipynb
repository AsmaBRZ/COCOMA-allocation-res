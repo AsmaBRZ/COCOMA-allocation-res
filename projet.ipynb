{
 "cells": [
  {
   "cell_type": "markdown",
   "metadata": {},
   "source": [
    "# Mini-projet COCOMA - allocation de resssources"
   ]
  },
  {
   "cell_type": "markdown",
   "metadata": {},
   "source": [
    "Le mini-projet consiste simplement à produire un notebook qui permettra d'illustrer deux protocoles pour la coordination à base d'enchères:\n",
    "\n",
    "- les protocoles SSI (version classique et regret)\n",
    "\n",
    "- le protocole CBAA \n",
    "\n",
    "On s'nspirera de la fiche exemple donnée en pdf. Pour les deux protocoles, les agents/robots doivent être situés sur un graphe, dont les arcs sont valués (distance)."
   ]
  },
  {
   "cell_type": "code",
   "execution_count": 1,
   "metadata": {},
   "outputs": [],
   "source": [
    "from problem import Problem\n",
    "#from utils import *\n",
    "import numpy as np"
   ]
  },
  {
   "cell_type": "markdown",
   "metadata": {},
   "source": [
    "## 1. Les protocoles SSI"
   ]
  },
  {
   "cell_type": "markdown",
   "metadata": {},
   "source": [
    "### 1.1. Version classique"
   ]
  },
  {
   "cell_type": "code",
   "execution_count": 2,
   "metadata": {},
   "outputs": [
    {
     "data": {
      "text/plain": [
       "array([[None, None, None, None, None, None, None, None],\n",
       "       [None, None, None, None, None, None, None, None],\n",
       "       [None, None, 'o2', None, 'o4', None, None, None],\n",
       "       [None, None, None, None, None, None, None, None],\n",
       "       [None, None, None, None, 'r2', None, None, None],\n",
       "       [None, None, 'r1', None, None, 'o1', None, None],\n",
       "       [None, None, None, None, None, None, None, None],\n",
       "       [None, None, None, None, 'o3', None, None, None]], dtype=object)"
      ]
     },
     "execution_count": 2,
     "metadata": {},
     "output_type": "execute_result"
    }
   ],
   "source": [
    "agents=[\"r1\",\"r2\"]\n",
    "resources=[\"o1\",\"o2\",\"o3\",\"o4\"]\n",
    "\n",
    "grid=np.empty([8, 8], dtype = object)\n",
    "\n",
    "grid[2][2]=\"o2\"\n",
    "grid[2][4]=\"o4\"\n",
    "grid[4][4]=\"r2\"\n",
    "grid[5][5]=\"o1\"\n",
    "grid[5][2]=\"r1\"\n",
    "grid[7][4]=\"o3\"\n",
    "grid\n"
   ]
  },
  {
   "cell_type": "code",
   "execution_count": 27,
   "metadata": {},
   "outputs": [
    {
     "name": "stdout",
     "output_type": "stream",
     "text": [
      "Round:  0\n",
      "\t Resource:  o1  ==> Agent:  r2 \n",
      "\n",
      "Round:  1\n",
      "\t Resource:  o2  ==> Agent:  r1 \n",
      "\n",
      "Round:  2\n",
      "\t Resource:  o3  ==> Agent:  r2 \n",
      "\n",
      "Round:  3\n",
      "\t Resource:  o4  ==> Agent:  r1 \n",
      "\n",
      "----------- Solution ------------\n",
      "Agent:  r1  :  ['o2', 'o4']\n",
      "Agent:  r1  :  ['o1', 'o3']\n"
     ]
    }
   ],
   "source": [
    "sii(grid,agents,resources)"
   ]
  },
  {
   "cell_type": "code",
   "execution_count": 26,
   "metadata": {},
   "outputs": [],
   "source": [
    "def distance(x1,x2,y1,y2):\n",
    "    return abs(x1-x2) + abs(y1-y2)\n",
    "\n",
    "\n",
    "def initbags(n):\n",
    "    m=[]\n",
    "    for i in range (n):\n",
    "        m.append([])\n",
    "    return m\n",
    "\n",
    "\n",
    "def bid(grid,r,i,agent,positions_agents):\n",
    "      pos_r_x=np.where(grid == r)[0][0]\n",
    "      pos_r_y=np.where(grid == r)[1][0]\n",
    "      #init the nearest target with the robot's position\n",
    "      nearest_pos_target_x=positions_agents[i][0][0]\n",
    "      nearest_pos_target_y=positions_agents[i][0][1]\n",
    "      distance_nearest_target=distance(nearest_pos_target_x,pos_r_x,nearest_pos_target_y,pos_r_y)\n",
    "\n",
    "      for j in range(1,len(positions_agents[i])):\n",
    "          pos_a_x=positions_agents[i][j][0]\n",
    "          pos_a_y=positions_agents[i][j][1]\n",
    "          d=distance(pos_a_x,pos_r_x,pos_a_y,pos_r_y)\n",
    "          if(d<distance_nearest_target):\n",
    "              nearest_pos_target_x=pos_a_x\n",
    "              nearest_pos_target_y=pos_a_y\n",
    "              distance_nearest_target=distance(nearest_pos_target_x,pos_r_x,nearest_pos_target_y,pos_r_y)\n",
    "      return [distance_nearest_target,i]\n",
    "         \n",
    "def sii(grid,agents,resources):\n",
    "    bags=initbags(len(agents))\n",
    "    positions_agents=initbags(len(agents))\n",
    "    \n",
    "    cp=0\n",
    "    #init position of agents\n",
    "    for a in agents:\n",
    "        pos_a_x=np.where(grid == a)[0][0] \n",
    "        pos_a_y=np.where(grid == a)[1][0]\n",
    "        positions_agents[cp].append([pos_a_x,pos_a_y])\n",
    "        cp+=1\n",
    "        \n",
    "    cp=0\n",
    "    for r in resources:\n",
    "         print(\"Round: \",cp)\n",
    "         i=0\n",
    "         bids=[]\n",
    "         for agent in agents:\n",
    "             bids.append(bid(grid,r,i,agents[i],positions_agents))\n",
    "             i+=1\n",
    "         #print(bids)\n",
    "         bids=np.array(bids)\n",
    "         min_bid=min(bids[:,0])\n",
    "         index_winner=np.where(bids[:,0] == min_bid)[0][0]\n",
    "         agent_winner=agents[index_winner]\n",
    "         #print(\"agent_winner \",agent_winner)\n",
    "         pos_r_x=np.where(grid == r)[0][0]\n",
    "         pos_r_y=np.where(grid == r)[1][0]\n",
    "         positions_agents[index_winner].append([pos_r_x,pos_r_y])\n",
    "         #print(\"positions_agents \",positions_agents)\n",
    "         bags[index_winner].append(r)\n",
    "         print(\"\\t Resource: \",r,\" ==> Agent: \",agent_winner,\"\\n\")\n",
    "         cp+=1\n",
    "    i=0\n",
    "    print(\"----------- Solution ------------\")\n",
    "    for b in bags:\n",
    "        print(\"Agent: \",agents[0],\" : \",b)\n",
    "        i+=1\n",
    "        \n",
    "             \n",
    "             \n",
    "             "
   ]
  },
  {
   "cell_type": "markdown",
   "metadata": {},
   "source": [
    "### 1.2. Version regret"
   ]
  },
  {
   "cell_type": "markdown",
   "metadata": {},
   "source": [
    "## 2. Le protocoles CBAA"
   ]
  }
 ],
 "metadata": {
  "anaconda-cloud": {},
  "kernelspec": {
   "display_name": "Python 3",
   "language": "python",
   "name": "python3"
  },
  "language_info": {
   "codemirror_mode": {
    "name": "ipython",
    "version": 3
   },
   "file_extension": ".py",
   "mimetype": "text/x-python",
   "name": "python",
   "nbconvert_exporter": "python",
   "pygments_lexer": "ipython3",
   "version": "3.7.4"
  }
 },
 "nbformat": 4,
 "nbformat_minor": 1
}

{
 "cells": [
  {
   "cell_type": "markdown",
   "metadata": {},
   "source": [
    "# Mini-projet COCOMA - allocation de resssources"
   ]
  },
  {
   "cell_type": "markdown",
   "metadata": {},
   "source": [
    "Le mini-projet consiste simplement à produire un notebook qui permettra d'illustrer deux protocoles pour la coordination à base d'enchères:\n",
    "\n",
    "- les protocoles SSI (version classique et regret)\n",
    "\n",
    "- le protocole CBAA \n",
    "\n",
    "On s'nspirera de la fiche exemple donnée en pdf. Pour les deux protocoles, les agents/robots doivent être situés sur un graphe, dont les arcs sont valués (distance)."
   ]
  },
  {
   "cell_type": "code",
   "execution_count": 1,
   "metadata": {},
   "outputs": [],
   "source": [
    "from problem import Problem\n",
    "#import utils\n",
    "import numpy as np\n",
    "import sys\n",
    "import importlib\n",
    "#importlib.reload(utils)"
   ]
  },
  {
   "cell_type": "markdown",
   "metadata": {},
   "source": [
    "## 1. Les protocoles SSI"
   ]
  },
  {
   "cell_type": "markdown",
   "metadata": {},
   "source": [
    "### 1.1. Version classique"
   ]
  },
  {
   "cell_type": "code",
   "execution_count": 2,
   "metadata": {},
   "outputs": [
    {
     "data": {
      "text/plain": [
       "array([[None, None, None, None, None, None, None, None],\n",
       "       [None, None, None, None, None, None, None, None],\n",
       "       [None, None, 'o2', None, 'o4', None, None, None],\n",
       "       [None, None, None, None, None, None, None, None],\n",
       "       [None, None, None, None, 'r2', None, None, None],\n",
       "       [None, None, 'r1', None, None, 'o1', None, None],\n",
       "       [None, None, None, None, None, None, None, None],\n",
       "       [None, None, None, None, 'o3', None, None, None]], dtype=object)"
      ]
     },
     "execution_count": 2,
     "metadata": {},
     "output_type": "execute_result"
    }
   ],
   "source": [
    "agents=[\"r1\",\"r2\"]\n",
    "resources=[\"o1\",\"o2\",\"o3\",\"o4\"]\n",
    "\n",
    "grid=np.empty([8, 8], dtype = object)\n",
    "\n",
    "grid[2][2]=\"o2\"\n",
    "grid[2][4]=\"o4\"\n",
    "grid[4][4]=\"r2\"\n",
    "grid[5][5]=\"o1\"\n",
    "grid[5][2]=\"r1\"\n",
    "grid[7][4]=\"o3\"\n",
    "grid\n"
   ]
  },
  {
   "cell_type": "code",
   "execution_count": 107,
   "metadata": {},
   "outputs": [
    {
     "name": "stdout",
     "output_type": "stream",
     "text": [
      "Round:  0\n",
      "\t Resource:  o1  ==> Agent:  r2 \n",
      "\n",
      "Round:  1\n",
      "\t Resource:  o2  ==> Agent:  r1 \n",
      "\n",
      "Round:  2\n",
      "\t Resource:  o3  ==> Agent:  r2 \n",
      "\n",
      "Round:  3\n",
      "\t Resource:  o4  ==> Agent:  r1 \n",
      "\n",
      "----------- Solution ------------\n",
      "Agent:  r1  :  ['o2', 'o4']\n",
      "Agent:  r2  :  ['o1', 'o3']\n"
     ]
    }
   ],
   "source": [
    "sii(grid,agents,resources)"
   ]
  },
  {
   "cell_type": "code",
   "execution_count": 122,
   "metadata": {},
   "outputs": [
    {
     "name": "stdout",
     "output_type": "stream",
     "text": [
      "Round:  0\n",
      "\t Available resources:  ['o1', 'o2', 'o3', 'o4']\n",
      "\t Resource:  o4  ==> Agent:  r2 \n",
      "\n",
      "\n",
      "\n",
      "Round:  1\n",
      "\t Available resources:  ['o1', 'o2', 'o3']\n",
      "\t Resource:  o1  ==> Agent:  r1 \n",
      "\n",
      "\n",
      "\n",
      "Round:  2\n",
      "\t Available resources:  ['o2', 'o3']\n",
      "\t Resource:  o2  ==> Agent:  r2 \n",
      "\n",
      "\n",
      "\n",
      "Round:  3\n",
      "\t Available resources:  ['o3']\n",
      "\t Resource:  o3  ==> Agent:  r1 \n",
      "\n",
      "\n",
      "\n",
      "----------- Solution ------------\n",
      "Agent:  r1  :  ['o1', 'o3']\n",
      "Agent:  r2  :  ['o4', 'o2']\n"
     ]
    }
   ],
   "source": [
    "ssi_regret(grid,agents,resources)"
   ]
  },
  {
   "cell_type": "code",
   "execution_count": 121,
   "metadata": {},
   "outputs": [],
   "source": [
    "def my_bids(grid,resources,i,agent,nodes_agent):\n",
    "    bids=[]\n",
    "    b=[]\n",
    "    for r in resources:\n",
    "        #calcul du cout\n",
    "        g=gain(grid,r,i,agent,nodes_agent)\n",
    "        bids.append(g)\n",
    "        b.append(g[0])\n",
    "    return bids,b\n",
    "        \n",
    "def gain(grid,r,i,agent,nodes_agent):\n",
    "    cp = 0\n",
    "    pos_a_x=np.where(grid == agent)[0][0] \n",
    "    pos_a_y=np.where(grid == agent)[1][0]\n",
    "    pos_r_x=np.where(grid == r)[0][0]\n",
    "    pos_r_y=np.where(grid == r)[1][0]\n",
    "    min_cost=sys.maxsize\n",
    "    cp_min=-1\n",
    "    \n",
    "    if(len(nodes_agent)==0):\n",
    "        return (distance(pos_a_x,pos_r_x,pos_a_y,pos_r_y),cp)\n",
    "    while(cp<len(nodes_agent)+1):\n",
    "        if(cp==0):\n",
    "            pos_node1_x=np.where(grid == nodes_agent[cp])[0][0]\n",
    "            pos_node1_y=np.where(grid == nodes_agent[cp])[1][0]\n",
    "            d=distance(pos_a_x,pos_r_x,pos_a_y,pos_r_y)+distance(pos_node1_x,pos_r_x,pos_node1_y,pos_r_y)-distance(pos_node1_x,pos_a_x,pos_node1_y,pos_a_y)\n",
    "            if (d<min_cost):\n",
    "                cp_min=cp\n",
    "                min_cost=d\n",
    "        elif(cp==len(nodes_agent)):\n",
    "            pos_node1_x=np.where(grid == nodes_agent[cp-1])[0][0]\n",
    "            pos_node1_y=np.where(grid == nodes_agent[cp-1])[1][0]\n",
    "            d=distance(pos_node1_x,pos_r_x,pos_node1_y,pos_r_y)\n",
    "            if(d<min_cost):\n",
    "                cp_min=cp\n",
    "                min_cost=d\n",
    "        else:\n",
    "            pos_node1_x=np.where(grid == nodes_agent[cp-1])[0][0]\n",
    "            pos_node1_y=np.where(grid == nodes_agent[cp-1])[1][0]\n",
    "            pos_node2_x=np.where(grid == nodes_agent[cp])[0][0]\n",
    "            pos_node2_y=np.where(grid == nodes_agent[cp])[1][0]\n",
    "            d=distance(pos_node1_x,pos_r_x,pos_node1_y,pos_r_y)+distance(pos_node2_x,pos_r_x,pos_node2_y,pos_r_y)-distance(pos_node1_x,pos_node2_x,pos_node1_y,pos_node2_y)\n",
    "            if(d<min_cost):\n",
    "                cp_min=cp\n",
    "                min_cost=d\n",
    "        cp+=1\n",
    "    return (min_cost,cp)\n",
    "        \n",
    "    \n",
    "def ssi_regret(grid,agents,resources):\n",
    "    available_resources=resources.copy()    \n",
    "    nodes_agents=initbags(len(agents))\n",
    "    round_alloc=0\n",
    "    while(len(available_resources)!=0):\n",
    "        print(\"Round: \",round_alloc)\n",
    "        \n",
    "        print(\"\\t Available resources: \",available_resources)\n",
    "        i=0\n",
    "        regrets=[]\n",
    "        tmp_bids=[]\n",
    "        costs=[]\n",
    "        for agent in agents:\n",
    "            #calcul\n",
    "            bids_cp,evaluation=my_bids(grid,available_resources,i,agent,nodes_agents[i])\n",
    "            costs.append(evaluation)\n",
    "            tmp_bids.append(bids_cp)\n",
    "            i+=1\n",
    "        #regret \n",
    "        costs=np.array(costs)\n",
    "        k=0\n",
    "        while(k<len(costs[0])):\n",
    "            col=np.array(costs)[:,k]\n",
    "            #print(\"col \",col)\n",
    "            tmp_c=np.flip(np.sort(col))\n",
    "            first_max=tmp_c[0]\n",
    "            second_max=tmp_c[1]\n",
    "            regret=abs(second_max-first_max)\n",
    "            regrets.append(regret)\n",
    "            k+=1\n",
    "        top_regret=max(regrets)\n",
    "        \n",
    "        index_col_max_regret=np.where(regrets==top_regret)[0][0]\n",
    "        \n",
    "        col=costs[:,index_col_max_regret]\n",
    "        #print(\"index_col_max_regret \",index_col_max_regret)\n",
    "        #print(\"costs \",costs)\n",
    "        #print(\"regrets \",regrets)\n",
    "        #print(\"col \",col)\n",
    "        min_bid=min(col)\n",
    "        index_min_bid=np.where(col==min_bid)[0][0]\n",
    "        agent_winner=agents[index_min_bid]\n",
    "        res_won=available_resources[index_col_max_regret]\n",
    "        print(\"\\t Resource: \",res_won,\" ==> Agent: \",agent_winner,\"\\n\")\n",
    "        available_resources.remove(res_won)\n",
    "        #insert the new node\n",
    "        cp_insertion=tmp_bids[index_min_bid][index_col_max_regret][1]\n",
    "        nodes_agents[index_min_bid].insert(cp_insertion,res_won)\n",
    "        #print(\"Agent's sequences \",nodes_agents)\n",
    "        print(\"\\n\")\n",
    "        round_alloc+=1\n",
    "        \n",
    "    i=0\n",
    "    print(\"----------- Solution ------------\")\n",
    "    for agent in agents:\n",
    "        print(\"Agent: \",agent,\" : \",nodes_agents[i])\n",
    "        i+=1"
   ]
  },
  {
   "cell_type": "code",
   "execution_count": 106,
   "metadata": {},
   "outputs": [],
   "source": [
    "def distance(x1,x2,y1,y2):\n",
    "    return abs(x1-x2) + abs(y1-y2)\n",
    "\n",
    "\n",
    "def initbags(n):\n",
    "    m=[]\n",
    "    for i in range (n):\n",
    "        m.append([])\n",
    "    return m\n",
    "\n",
    "\n",
    "def bid(grid,r,i,agent,positions_agents):\n",
    "      pos_r_x=np.where(grid == r)[0][0]\n",
    "      pos_r_y=np.where(grid == r)[1][0]\n",
    "      #init the nearest target with the robot's position\n",
    "      nearest_pos_target_x=positions_agents[i][0][0]\n",
    "      nearest_pos_target_y=positions_agents[i][0][1]\n",
    "      distance_nearest_target=distance(nearest_pos_target_x,pos_r_x,nearest_pos_target_y,pos_r_y)\n",
    "\n",
    "      for j in range(1,len(positions_agents[i])):\n",
    "          pos_a_x=positions_agents[i][j][0]\n",
    "          pos_a_y=positions_agents[i][j][1]\n",
    "          d=distance(pos_a_x,pos_r_x,pos_a_y,pos_r_y)\n",
    "          if(d<distance_nearest_target):\n",
    "              nearest_pos_target_x=pos_a_x\n",
    "              nearest_pos_target_y=pos_a_y\n",
    "              distance_nearest_target=distance(nearest_pos_target_x,pos_r_x,nearest_pos_target_y,pos_r_y)\n",
    "      return [distance_nearest_target,i]\n",
    "         \n",
    "def sii(grid,agents,resources):\n",
    "    bags=initbags(len(agents))\n",
    "    positions_agents=initbags(len(agents))\n",
    "    \n",
    "    cp=0\n",
    "    #init position of agents\n",
    "    for a in agents:\n",
    "        pos_a_x=np.where(grid == a)[0][0] \n",
    "        pos_a_y=np.where(grid == a)[1][0]\n",
    "        positions_agents[cp].append([pos_a_x,pos_a_y])\n",
    "        cp+=1\n",
    "        \n",
    "    cp=0\n",
    "    for r in resources:\n",
    "         print(\"Round: \",cp)\n",
    "         i=0\n",
    "         bids=[]\n",
    "         for agent in agents:\n",
    "             bids.append(bid(grid,r,i,agents[i],positions_agents))\n",
    "             i+=1\n",
    "         #print(bids)\n",
    "         bids=np.array(bids)\n",
    "         min_bid=min(bids[:,0])\n",
    "         index_winner=np.where(bids[:,0] == min_bid)[0][0]\n",
    "         agent_winner=agents[index_winner]\n",
    "         #print(\"agent_winner \",agent_winner)\n",
    "         pos_r_x=np.where(grid == r)[0][0]\n",
    "         pos_r_y=np.where(grid == r)[1][0]\n",
    "         positions_agents[index_winner].append([pos_r_x,pos_r_y])\n",
    "         #print(\"positions_agents \",positions_agents)\n",
    "         bags[index_winner].append(r)\n",
    "         print(\"\\t Resource: \",r,\" ==> Agent: \",agent_winner,\"\\n\")\n",
    "         cp+=1\n",
    "    i=0\n",
    "    print(\"----------- Solution ------------\")\n",
    "    for b in bags:\n",
    "        print(\"Agent: \",agents[i],\" : \",b)\n",
    "        i+=1           "
   ]
  },
  {
   "cell_type": "markdown",
   "metadata": {},
   "source": [
    "### 1.2. Version regret"
   ]
  },
  {
   "cell_type": "markdown",
   "metadata": {},
   "source": [
    "## 2. Le protocoles CBAA"
   ]
  }
 ],
 "metadata": {
  "anaconda-cloud": {},
  "kernelspec": {
   "display_name": "Python 3",
   "language": "python",
   "name": "python3"
  },
  "language_info": {
   "codemirror_mode": {
    "name": "ipython",
    "version": 3
   },
   "file_extension": ".py",
   "mimetype": "text/x-python",
   "name": "python",
   "nbconvert_exporter": "python",
   "pygments_lexer": "ipython3",
   "version": "3.6.8"
  }
 },
 "nbformat": 4,
 "nbformat_minor": 1
}
